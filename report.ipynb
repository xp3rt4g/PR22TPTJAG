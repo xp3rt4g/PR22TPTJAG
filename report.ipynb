{
 "cells": [
  {
   "attachments": {},
   "cell_type": "markdown",
   "id": "46e94968",
   "metadata": {},
   "source": [
    "# Analiza prometnih nesreč v Sloveniji\n",
    "### od 2009 do 2022"
   ]
  },
  {
   "attachments": {},
   "cell_type": "markdown",
   "id": "34b36177",
   "metadata": {},
   "source": [
    "## Avtorji\n",
    "\n",
    "\n",
    "<ul>\n",
    "    <li>Tim Povše</li>\n",
    "    <li>Tim Jevšenak</li>\n",
    "    <li>Anže Goršek</li>\n",
    "</ul>"
   ]
  },
  {
   "attachments": {},
   "cell_type": "markdown",
   "id": "2909e444",
   "metadata": {},
   "source": [
    "## Opis podatkov\n",
    "\n",
    "\n",
    "Podatki so iz slovenskega portala <a href=\"https://podatki.gov.si/dataset/mnzpprometne-nesrece-od-leta-2009-dalje\">OPSI</a>. Gre za podatke o prometnih nesrečah od leta 2009 do leta 2022. Za področje prometne varnosti je na voljo ena datoteka na leto. V datoteki so zajete vse prometne nesreče, pri ogledu katerih je sodelovala policija in so se zgodile v obravnavanem obdobju.\n",
    "\n",
    "<br>\n",
    "\n",
    "Podatki za vsko leto imajo 35 atributov, in sicer:\n",
    "\n",
    "<ul>\n",
    "<li>številka za štetje in ločevanje posamezne prometne nesreče\n",
    "    </li><li>klasifikacija nesreče glede na posledice (Izračuna se avtomatično glede na najhujšo </li><li>posledico pri udeležencih v prometni nesreči)\n",
    "</li><li>upravna enota, na območju katere se je zgodila prometna nesreča\n",
    "</li><li>datum nesreče (format: dd.mm.llll)\n",
    "</li><li>ura nesreče (format: hh.mm)\n",
    "</li><li>indikator ali se je nesreča zgodila v naselju (D) ali izven (N)\n",
    "</li><li>lokacija nesreče\n",
    "</li><li>vrsta ceste ali naselja na kateri je prišlo do nesreče\n",
    "</li><li>oznaka ceste ali šifra naselja kjer je prišlo do nesreče\n",
    "</li><li>tekst ceste ali naselja, kjer je prišlo do nesreče\n",
    "</li><li>oznaka odseka ceste ali šifra ulice, kjer je prišlo do nesreče\n",
    "</li><li>tekst odseka ali ulice, kjer je prišlo do nesreče\n",
    "</li><li>točna stacionaža ali hišna številka, kjer je prišlo do nesreče\n",
    "</li><li>opis prizorišča nesreče\n",
    "</li><li>glavni vzrok nesreče\n",
    "</li><li>tip nesreče\n",
    "</li><li>vremenske okoliščine v času nesreče\n",
    "</li><li>stanje prometa v času nesreče\n",
    "</li><li>stanje vozišča v času nesreče\n",
    "</li><li>stanje površine vozišča v času nesreče\n",
    "</li><li>Geo Koordinata X je z letom 2013 v D96/TM koordinatnem sistemu, pred tem v Gauß-Krüger-jev koordinatnem sistemu\n",
    "</li><li>Geo Koordinata Y je z letom 2013 v D96/TM koordinatnem sistemu, pred tem v Gauß-Krüger-jev koordinatnem sistemu\n",
    "</li><li>številka za štetje in ločevanje oseb, udeleženih v prometnih nesrečah\n",
    "</li><li>kot kaj nastopa oseba v prometni nesreči\n",
    "</li><li>starost osebe (LL)\n",
    "</li><li>spol\n",
    "</li><li>upravna enota stalnega prebivališča\n",
    "</li><li>državljanstvo osebe\n",
    "</li><li>poškodba osebe\n",
    "</li><li>vrsta udeleženca v prometu\n",
    "</li><li>ali je oseba uporabljala varnostni pas ali čelado (polje se interpretira v odvisnosti od vrste udeleženca) (Da/Ne)\n",
    "</li><li>vozniški staž osebe za kategorijo, ki jo potrebuje glede na vrsto udeleženca v prometu (LL)\n",
    "</li><li>vozniški staž osebe za kategorijo, ki jo potrebuje glede na vrsto udeleženca v prometu (MM)\n",
    "</li><li>vrednost alkotesta za osebo, če je bil opravljen (n.nn v enoti mg alkohola/liter izdihanega zraka (mg/l))\n",
    "</li><li>vrednost strokovnega pregleda za osebo, če je bil odrejen in so rezultati že znani (n.nn v enoti g alkohola/kg krvi (g/kg))\n",
    "    </li>\n",
    "    </ul>"
   ]
  },
  {
   "attachments": {},
   "cell_type": "markdown",
   "id": "94b5247e",
   "metadata": {},
   "source": [
    "## Zastavljena vprašanja\n",
    "\n",
    "Pred izdelavo projektne naloge smo si izdali par vprašanj, na katera smo s pomočjo podatkov poskušali odgovoriti.  \n",
    "\n",
    "&nbsp;\n",
    "  \n",
    "Vprašanja so bila:\n",
    "\n",
    "&nbsp;\n",
    "\n",
    "1\\. Ali število pijanih povzročiteljev prometnih nesreč pada ali narašča?\n",
    "\n",
    "2\\. Korelacija med hudo telesno poškodbo in neuporabo varnostnega pasu.\n",
    "\n",
    "3\\. Kako vplivata starost in spol na povzročitev prometne nesreče?\n",
    "\n",
    "4\\. Na katerih vrstah in stanjih vozišča, ter v katerem stanju prometa se najpogosteje pojavljajo prometne nesreče?"
   ]
  },
  {
   "attachments": {},
   "cell_type": "markdown",
   "id": "643572bb",
   "metadata": {},
   "source": [
    "## Odgovori na vprašanja"
   ]
  },
  {
   "attachments": {},
   "cell_type": "markdown",
   "id": "63af968e",
   "metadata": {},
   "source": [
    "### 1. Ali število pijanih povzročiteljev prometnih nesreč pada ali narašča?"
   ]
  },
  {
   "attachments": {},
   "cell_type": "markdown",
   "id": "c7178ff9",
   "metadata": {},
   "source": [
    "Delež alkoholiziranih povzročiteljev prometnih nesreč smo na spodnjem grafu prikazali po letih.\n",
    "\n",
    "Opazili smo, da število alkoholiziranih povzročiteljev skozi leta niha. Najbolj izstopata leti 2009 in 2016, kjer je bil delež alkoholiziranih povzročiteljev najvišji.\n",
    "\n",
    "Presenetilo nas je to, da je bil delež alkoholiziranih voznikov v zadnjih treh letih celo nad povprečjem vseh let (2009-2022)."
   ]
  },
  {
   "attachments": {
    "image.png": {
     "image/png": "[encoded data removed]"
    }
   },
   "cell_type": "markdown",
   "id": "32802d3f",
   "metadata": {},
   "source": [
    "![](attachment:image.png)"
   ]
  },
  {
   "attachments": {},
   "cell_type": "markdown",
   "id": "9c4ce0d0",
   "metadata": {},
   "source": [
    "### 2\\. Korelacija med hudo telesno poškodbo in neuporabo varnostnega pasu.\n"
   ]
  },
  {
   "attachments": {},
   "cell_type": "markdown",
   "id": "e951b6ec",
   "metadata": {},
   "source": [
    "Preden smo se lotili računanja korelacije med hudo telesno poškodbo in neuporabo oziroma uporabo varnostnega pasu, nas je zanimalo tudi ali se je uporaba varnostnega pasu skozi leta zvišala ali znižala.\n",
    "\n",
    "\n",
    "Kot vidimo na spodnjem grafu se je uporaba varnostnega pasu med letoma 2009 in 2022 zmanjšala, kar nas je zelo presenetilo saj smo pričakovali povečanje uporabe varnostnega pasu."
   ]
  },
  {
   "attachments": {
    "image.png": {
     "image/png": "[encoded data removed]"
    }
   },
   "cell_type": "markdown",
   "id": "14ae0f02",
   "metadata": {},
   "source": [
    "![image.png](attachment:image.png)"
   ]
  },
  {
   "cell_type": "code",
   "execution_count": 3,
   "id": "6242a22e",
   "metadata": {},
   "outputs": [
    {
     "name": "stdout",
     "output_type": "stream",
     "text": [
      "Nesreče s hudo telesno poškodbo ali smrtnim izidom:\n",
      "   hude nesreče  vse nesreče          %\n",
      "0         17308       387403   4.467699\n",
      "1          4924        38811  12.687125\n",
      "Udeleženec prometne nesreče, ki ni pripasan, ima 283.97% večjo verjetnost, da utrpi hujše poškodbe ali smrtne posledice.\n",
      "\n",
      "Nesreče s smrtnim izidom:\n",
      "   smrtne nesreče  vse nesreče         %\n",
      "0            2429       387403  0.626996\n",
      "1             824        38811  2.123109\n",
      "Udeleženec prometne nesreče, ki ni pripasan, ima 338.62% večjo verjetnost, da utrpi smrtne posledice.\n"
     ]
    }
   ],
   "source": [
    "%store -r result_worst_case_wrecks\n",
    "%store -r result_wrecks_with_death\n",
    "%store -r df_worst_case_wrecks\n",
    "%store -r df_wrecks_with_death\n",
    "\n",
    "print(\"Nesreče s hudo telesno poškodbo ali smrtnim izidom:\")\n",
    "print(df_worst_case_wrecks)\n",
    "print(\"Udeleženec prometne nesreče, ki ni pripasan, ima {:.2f}% večjo verjetnost, da utrpi hujše poškodbe ali smrtne posledice.\".format(\n",
    "    result_worst_case_wrecks[1][2] / result_worst_case_wrecks[0][2] * 100))\n",
    "\n",
    "print(\"\\nNesreče s smrtnim izidom:\")\n",
    "print(df_wrecks_with_death)\n",
    "print(\"Udeleženec prometne nesreče, ki ni pripasan, ima {:.2f}% večjo verjetnost, da utrpi smrtne posledice.\".format(\n",
    "    result_wrecks_with_death[1][2] / result_wrecks_with_death[0][2] * 100))"
   ]
  },
  {
   "attachments": {},
   "cell_type": "markdown",
   "id": "8414f2f5",
   "metadata": {},
   "source": [
    "Odgovarjanja na vprašanje smo se lotili tako, da smo izračunali kakšno verjetnost ima udeleženec ki ni pripasan za neko poškodbo v primerjavi s pripasanim udeležencem.\n",
    "\n",
    "Kot vidimo po spodnjih podatkih ima udeleženec, ki ni pripasan 283.97% večjo verjetnost, da bo utrpel hujše poškodbe ali smrtne posledice.\n",
    "\n",
    "Ko smo primerjali verjetnost za smrt pa je bila številka še večja, saj ima nepripasan udeleženec 338.62% večjo verjetnost, da v prometni nesreči umre.\n",
    "\n",
    "Takšen rezultat je bil pričakovan, nas je pa presenetilo da je verjetnost za smrt več kot trikrat večja."
   ]
  },
  {
   "attachments": {},
   "cell_type": "markdown",
   "id": "24b42232",
   "metadata": {},
   "source": [
    "### 3. Kako vplivata starost in spol na povzročitev prometne nesreče?"
   ]
  },
  {
   "attachments": {},
   "cell_type": "markdown",
   "id": "a1535d2a",
   "metadata": {},
   "source": [
    "Voznike smo razdelili na štiri strostne skupine: do 21 let, od 21 do 40 let, od 40 do 60 let in nad 60 let.\n",
    "\n",
    "Voznike, kateri niso imeli podatka o spolu nismo všteli v učno skupino.\n",
    "\n",
    "Za povzročitelja v tem primeru šteje oseba, ki je navedena kot pozročitelj in je voznik osebnega avtomobila.\n",
    "\n",
    "Podatki o številu pozročiteljev nesreč glede na starost so sicer lahko malo zavajajoči, saj največ slovenskih voznikov pripada srednjima dvema skupinama in posledično so tudi v naših podatkih najštevilčnejše."
   ]
  },
  {
   "attachments": {
    "image-2.png": {
     "image/png": "[encoded data removed]"
    }
   },
   "cell_type": "markdown",
   "id": "45ee787e",
   "metadata": {},
   "source": [
    "![image-2.png](attachment:image-2.png)"
   ]
  },
  {
   "attachments": {},
   "cell_type": "markdown",
   "id": "e89181c9",
   "metadata": {},
   "source": [
    "Iz grafa je očitno, da moški v Sloveniji povzročijo dvakrat več prometnih nesreč.\n",
    "\n",
    "Starostna poradelitev pa je za oba spola podobna.\n",
    "\n",
    "Največ prometnih nesreč v Sloveniji povzročijo vozniki v skupini med 21 in 40 let."
   ]
  },
  {
   "attachments": {},
   "cell_type": "markdown",
   "id": "d8fffe5d",
   "metadata": {},
   "source": [
    "<a href=\"https://github.com/xp3rt4g/PR22TPTJAG/blob/main/prometne.ipynb\">Vsa koda, ki smo jo uporabili</a>"
   ]
  }
 ],
 "metadata": {
  "kernelspec": {
   "display_name": "Python 3 (ipykernel)",
   "language": "python",
   "name": "python3"
  },
  "language_info": {
   "codemirror_mode": {
    "name": "ipython",
    "version": 3
   },
   "file_extension": ".py",
   "mimetype": "text/x-python",
   "name": "python",
   "nbconvert_exporter": "python",
   "pygments_lexer": "ipython3",
   "version": "3.9.5"
  }
 },
 "nbformat": 4,
 "nbformat_minor": 5
}
