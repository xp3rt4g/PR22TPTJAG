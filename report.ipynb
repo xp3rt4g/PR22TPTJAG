{
 "cells": [
  {
   "cell_type": "markdown",
   "id": "46e94968",
   "metadata": {},
   "source": [
    "# Statistika prometnih nesreč\n",
    "### od 2009 do 2022"
   ]
  },
  {
   "cell_type": "markdown",
   "id": "34b36177",
   "metadata": {},
   "source": [
    "## Avtorji\n",
    "\n",
    "\n",
    "<ul>\n",
    "    <li>Tim Povše</li>\n",
    "    <li>Tim Jevšenak</li>\n",
    "    <li>Anže Goršek</li>\n",
    "</ul>"
   ]
  },
  {
   "cell_type": "markdown",
   "id": "2909e444",
   "metadata": {},
   "source": [
    "## Opis podatkov\n",
    "\n",
    "\n",
    "Podatki so iz slovenskega portala <a href=\"https://podatki.gov.si/dataset/mnzpprometne-nesrece-od-leta-2009-dalje\">OPSI</a>. Gre za podatke o prometnih nesrečah od leta 2009 do leta 2022. Za področje prometne varnosti je na voljo ena datoteka na leto. V datoteki so zajete vse prometne nesreče, pri ogledu katerih je sodelovala policija in so se zgodile v obravnavanem obdobju.\n",
    "\n",
    "<br>\n",
    "\n",
    "Podatki za vsko leto imajo 35 atributov, in sicer:\n",
    "\n",
    "<ul>\n",
    "<li>številka za štetje in ločevanje posamezne prometne nesreče\n",
    "    </li><li>klasifikacija nesreče glede na posledice (Izračuna se avtomatično glede na najhujšo </li><li>posledico pri udeležencih v prometni nesreči)\n",
    "</li><li>upravna enota, na območju katere se je zgodila prometna nesreča\n",
    "</li><li>datum nesreče (format: dd.mm.llll)\n",
    "</li><li>ura nesreče (format: hh.mm)\n",
    "</li><li>indikator ali se je nesreča zgodila v naselju (D) ali izven (N)\n",
    "</li><li>lokacija nesreče\n",
    "</li><li>vrsta ceste ali naselja na kateri je prišlo do nesreče\n",
    "</li><li>oznaka ceste ali šifra naselja kjer je prišlo do nesreče\n",
    "</li><li>tekst ceste ali naselja, kjer je prišlo do nesreče\n",
    "</li><li>oznaka odseka ceste ali šifra ulice, kjer je prišlo do nesreče\n",
    "</li><li>tekst odseka ali ulice, kjer je prišlo do nesreče\n",
    "</li><li>točna stacionaža ali hišna številka, kjer je prišlo do nesreče\n",
    "</li><li>opis prizorišča nesreče\n",
    "</li><li>glavni vzrok nesreče\n",
    "</li><li>tip nesreče\n",
    "</li><li>vremenske okoliščine v času nesreče\n",
    "</li><li>stanje prometa v času nesreče\n",
    "</li><li>stanje vozišča v času nesreče\n",
    "</li><li>stanje površine vozišča v času nesreče\n",
    "</li><li>Geo Koordinata X je z letom 2013 v D96/TM koordinatnem sistemu, pred tem v Gauß-Krüger-jev koordinatnem sistemu\n",
    "</li><li>Geo Koordinata Y je z letom 2013 v D96/TM koordinatnem sistemu, pred tem v Gauß-Krüger-jev koordinatnem sistemu\n",
    "</li><li>številka za štetje in ločevanje oseb, udeleženih v prometnih nesrečah\n",
    "</li><li>kot kaj nastopa oseba v prometni nesreči\n",
    "</li><li>starost osebe (LL)\n",
    "</li><li>spol\n",
    "</li><li>upravna enota stalnega prebivališča\n",
    "</li><li>državljanstvo osebe\n",
    "</li><li>poškodba osebe\n",
    "</li><li>vrsta udeleženca v prometu\n",
    "</li><li>ali je oseba uporabljala varnostni pas ali čelado (polje se interpretira v odvisnosti od vrste udeleženca) (Da/Ne)\n",
    "</li><li>vozniški staž osebe za kategorijo, ki jo potrebuje glede na vrsto udeleženca v prometu (LL)\n",
    "</li><li>vozniški staž osebe za kategorijo, ki jo potrebuje glede na vrsto udeleženca v prometu (MM)\n",
    "</li><li>vrednost alkotesta za osebo, če je bil opravljen (n.nn v enoti mg alkohola/liter izdihanega zraka (mg/l))\n",
    "</li><li>vrednost strokovnega pregleda za osebo, če je bil odrejen in so rezultati že znani (n.nn v enoti g alkohola/kg krvi (g/kg))\n",
    "    </li>\n",
    "    </ul>"
   ]
  },
  {
   "cell_type": "markdown",
   "id": "94b5247e",
   "metadata": {},
   "source": [
    "## Zastavljena vprašanja\n",
    "\n",
    "Pred izdelavo projektne naloge smo si izdali par vprašanj, na katera smo s pomočjo podatkov poskušali odgovoriti.  \n",
    "\n",
    "&nbsp;\n",
    "  \n",
    "Vprašanja so bila:\n",
    "\n",
    "&nbsp;\n",
    "\n",
    "1\\. Ali število pijanih povzročiteljev prometnih nesreč pada ali narašča?\n",
    "\n",
    "2\\. Korelacija med hudo telesno poškodbo in neuporabo varnostnega pasu.\n",
    "\n",
    "3\\. Kako vplivata starost in spol na povzročitev prometne nesreče?\n",
    "\n",
    "4\\. Na katerih vrstah in stanjih vozišča, ter v katerem stanju prometa se najpogosteje pojavljajo prometne nesreče?"
   ]
  },
  {
   "cell_type": "markdown",
   "id": "d8fffe5d",
   "metadata": {},
   "source": [
    "<a href=\"https://github.com/xp3rt4g/PR22TPTJAG/blob/main/prometne.ipynb\">Vsa koda, ki smo jo uporabili</a>"
   ]
  }
 ],
 "metadata": {
  "kernelspec": {
   "display_name": "Python 3 (ipykernel)",
   "language": "python",
   "name": "python3"
  },
  "language_info": {
   "codemirror_mode": {
    "name": "ipython",
    "version": 3
   },
   "file_extension": ".py",
   "mimetype": "text/x-python",
   "name": "python",
   "nbconvert_exporter": "python",
   "pygments_lexer": "ipython3",
   "version": "3.9.5"
  }
 },
 "nbformat": 4,
 "nbformat_minor": 5
}
